{
 "cells": [
  {
   "cell_type": "code",
   "execution_count": null,
   "id": "d6a8c680",
   "metadata": {},
   "outputs": [],
   "source": [
    "class ATM:\n",
    "    \n",
    "    def __init__(self):\n",
    "        self.name = None        \n",
    "        self.mobile = None\n",
    "        self.pin = None\n",
    "        self.balance = 0.0     \n",
    "        self.transactions = []\n",
    "        \n",
    "    def card_activation(self,full_name,mobile_number,pin,initial_deposit):\n",
    "        \n",
    "        self.full_name = full_name\n",
    "        self.mobile_number  = mobile_number \n",
    "        self.pin = pin\n",
    "        self.initial_deposit = initial_deposit"
   ]
  }
 ],
 "metadata": {
  "language_info": {
   "name": "python"
  }
 },
 "nbformat": 4,
 "nbformat_minor": 5
}
