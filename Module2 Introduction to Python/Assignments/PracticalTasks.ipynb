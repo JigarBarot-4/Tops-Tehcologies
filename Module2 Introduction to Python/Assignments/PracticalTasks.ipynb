{
 "cells": [
  {
   "cell_type": "markdown",
   "id": "f0d37061",
   "metadata": {},
   "source": [
    "1.Write a python program to sum of the first n positive integers."
   ]
  },
  {
   "cell_type": "code",
   "execution_count": null,
   "id": "eabe3476",
   "metadata": {},
   "outputs": [
    {
     "name": "stdout",
     "output_type": "stream",
     "text": [
      "15\n"
     ]
    }
   ],
   "source": [
    "num = int(input(\"Enter number: \"))\n",
    "sum = 0\n",
    "i = 1\n",
    "while i <= num:\n",
    "    sum = sum + i\n",
    "    i += 1\n",
    "print(sum)\n"
   ]
  },
  {
   "cell_type": "markdown",
   "id": "8f45b64e",
   "metadata": {},
   "source": [
    "2. Write a Python program to count occurrences of a substring in a string."
   ]
  },
  {
   "cell_type": "code",
   "execution_count": 1,
   "id": "7154a2b3",
   "metadata": {},
   "outputs": [
    {
     "name": "stdout",
     "output_type": "stream",
     "text": [
      "The substring occurs 2 times\n"
     ]
    }
   ],
   "source": [
    "string = \"hello world, hello python\"\n",
    "sub = \"hello\"\n",
    "\n",
    "count = string.count(sub)\n",
    "\n",
    "print(\"The substring occurs\", count, \"times\")\n",
    "\n"
   ]
  },
  {
   "cell_type": "markdown",
   "id": "73cbd444",
   "metadata": {},
   "source": [
    "3. Write a Python program to count the occurrences of each word in a given sentence."
   ]
  },
  {
   "cell_type": "code",
   "execution_count": 2,
   "id": "e77a1886",
   "metadata": {},
   "outputs": [
    {
     "name": "stdout",
     "output_type": "stream",
     "text": [
      "Word counts are: {'hello': 3, 'world': 2, 'python': 1}\n"
     ]
    }
   ],
   "source": [
    "sentence = \"hello world hello python world hello\"\n",
    "words = sentence.split()\n",
    "dict = {}\n",
    "\n",
    "for w in words:\n",
    "    if w in dict:\n",
    "        dict[w] = dict[w] + 1\n",
    "    else:\n",
    "        dict[w] = 1\n",
    "\n",
    "print(\"Word counts are:\", dict)\n"
   ]
  },
  {
   "cell_type": "markdown",
   "id": "a0161348",
   "metadata": {},
   "source": [
    "4. Write a Python program to get a single string from two given strings, separatedbya space and swap the first two characters of each string."
   ]
  },
  {
   "cell_type": "code",
   "execution_count": 3,
   "id": "c34c7b3b",
   "metadata": {},
   "outputs": [
    {
     "name": "stdout",
     "output_type": "stream",
     "text": [
      "xyc abz\n"
     ]
    }
   ],
   "source": [
    "str1 = \"abc\"\n",
    "str2 = \"xyz\"\n",
    "\n",
    "new_str1 = str2[:2] + str1[2:]\n",
    "new_str2 = str1[:2] + str2[2:]\n",
    "\n",
    "result = new_str1 + \" \" + new_str2\n",
    "print(result)"
   ]
  },
  {
   "cell_type": "markdown",
   "id": "e3df7d27",
   "metadata": {},
   "source": [
    "5. Write a Python program to add 'ing' at the end of a given string (length shouldbeat least 3). If the given string already ends with 'ing' then add 'ly' instead If thestring length of the given string is less than 3, leave it unchanged"
   ]
  },
  {
   "cell_type": "code",
   "execution_count": 7,
   "id": "34ae1070",
   "metadata": {},
   "outputs": [
    {
     "name": "stdout",
     "output_type": "stream",
     "text": [
      "surpriseing\n"
     ]
    }
   ],
   "source": [
    "s = input(\"Enter a string (at least 3 characters): \")\n",
    "length = len(s)\n",
    "if length >= 3:\n",
    "    if s[-3:] == \"ing\":\n",
    "        new_string = s + \"ly\"\n",
    "    else:\n",
    "        new_string = s + \"ing\"\n",
    "    print(new_string)\n",
    "else:\n",
    "    print(s)"
   ]
  },
  {
   "cell_type": "markdown",
   "id": "1530cebe",
   "metadata": {},
   "source": [
    "6. Write a Python program to find the first appearance of the substring 'not' and'poor' from a given string, if 'not' follows the 'poor', replace the whole 'not'...'poor' substring with 'good'. Return the resulting string"
   ]
  },
  {
   "cell_type": "code",
   "execution_count": null,
   "id": "fe6bf20d",
   "metadata": {},
   "outputs": [
    {
     "name": "stdout",
     "output_type": "stream",
     "text": [
      "Resulting string: the movie is good\n"
     ]
    }
   ],
   "source": [
    "s = input(\"Enter a sentence: \")\n",
    "\n",
    "not_pos = s.find(\"not\")\n",
    "poor_pos = s.find(\"poor\")\n",
    "\n",
    "if not_pos != -1 and poor_pos != -1 and not_pos < poor_pos:\n",
    "    s = s[:not_pos] + \"good\" + s[poor_pos+4:]\n",
    "\n",
    "print(\"Resulting string:\", s)\n"
   ]
  },
  {
   "cell_type": "markdown",
   "id": "4364060a",
   "metadata": {},
   "source": [
    "7. Program to find Greatest Common Divisor of two numbers. For example, theGCD of 20 and 28 is 4 and the GCD of 98 and 56 is 14."
   ]
  },
  {
   "cell_type": "code",
   "execution_count": 3,
   "id": "f32a2b94",
   "metadata": {},
   "outputs": [
    {
     "name": "stdout",
     "output_type": "stream",
     "text": [
      "The GCD is: 14\n"
     ]
    }
   ],
   "source": [
    "a = int(input(\"Enter first number: \"))\n",
    "b = int(input(\"Enter second number: \"))\n",
    "\n",
    "while b != 0:\n",
    "    a, b = b, a % b\n",
    "\n",
    "print(\"The GCD is:\", a)\n"
   ]
  },
  {
   "cell_type": "markdown",
   "id": "64dd715e",
   "metadata": {},
   "source": [
    "8. Write a Python program to check whether a list contains a sublist."
   ]
  },
  {
   "cell_type": "code",
   "execution_count": 6,
   "id": "8a4815ef",
   "metadata": {},
   "outputs": [
    {
     "name": "stdout",
     "output_type": "stream",
     "text": [
      "Sublist not found\n"
     ]
    }
   ],
   "source": [
    "main_list = [1, 2, 3, 4, 5, 6]\n",
    "sub_list = [5, 3, 4]\n",
    "\n",
    "found = False\n",
    "for i in range(len(main_list) - len(sub_list) + 1):\n",
    "    if main_list[i:i+len(sub_list)] == sub_list:\n",
    "        found = True\n",
    "        break\n",
    "\n",
    "if found:\n",
    "    print(\"Sublist found\")\n",
    "else:\n",
    "    print(\"Sublist not found\")\n",
    "\n"
   ]
  },
  {
   "cell_type": "markdown",
   "id": "4c5f5bc5",
   "metadata": {},
   "source": [
    "9. Write a Python program to find the second smallest number in a list."
   ]
  },
  {
   "cell_type": "code",
   "execution_count": 7,
   "id": "7f4c0ea2",
   "metadata": {},
   "outputs": [
    {
     "name": "stdout",
     "output_type": "stream",
     "text": [
      "Second smallest number is: 5\n"
     ]
    }
   ],
   "source": [
    "numbers = [10, 5, 8, 20, 3, 15]\n",
    "\n",
    "unique_numbers = list(set(numbers))\n",
    "unique_numbers.sort()\n",
    "\n",
    "if len(unique_numbers) >= 2:\n",
    "    print(\"Second smallest number is:\", unique_numbers[1])\n",
    "else:\n",
    "    print(\"List does not have a second smallest number.\")\n"
   ]
  },
  {
   "cell_type": "markdown",
   "id": "c5c3969c",
   "metadata": {},
   "source": [
    "10.Write a Python program to get unique values from a list."
   ]
  },
  {
   "cell_type": "code",
   "execution_count": 8,
   "id": "8e1d8ec4",
   "metadata": {},
   "outputs": [
    {
     "name": "stdout",
     "output_type": "stream",
     "text": [
      "Unique values are: [1, 2, 3, 4, 5, 6]\n"
     ]
    }
   ],
   "source": [
    "# Program to get unique values from a list\n",
    "\n",
    "numbers = [1, 2, 2, 3, 4, 4, 5, 1, 6]\n",
    "\n",
    "unique_numbers = list(set(numbers))\n",
    "\n",
    "print(\"Unique values are:\", unique_numbers)\n"
   ]
  },
  {
   "cell_type": "markdown",
   "id": "4d57c8c2",
   "metadata": {},
   "source": [
    "11.Write a Python program to unzip a list of tuples into individual lists."
   ]
  },
  {
   "cell_type": "code",
   "execution_count": 9,
   "id": "d696514c",
   "metadata": {},
   "outputs": [
    {
     "name": "stdout",
     "output_type": "stream",
     "text": [
      "[1, 3, 5]\n",
      "[2, 4, 6]\n"
     ]
    }
   ],
   "source": [
    "list_of_tuples = [(1,2), (3,4), (5,6)]\n",
    "\n",
    "list1, list2 = zip(*list_of_tuples)\n",
    "\n",
    "print(list(list1))\n",
    "print(list(list2))\n"
   ]
  },
  {
   "cell_type": "markdown",
   "id": "fab2af17",
   "metadata": {},
   "source": [
    "13.Write a Python program to sort a dictionary (ascending /descending) by value."
   ]
  },
  {
   "cell_type": "code",
   "execution_count": 6,
   "id": "8e7d525d",
   "metadata": {},
   "outputs": [
    {
     "name": "stdout",
     "output_type": "stream",
     "text": [
      "Ascending: {'d': 1, 'b': 2, 'a': 5, 'c': 9}\n",
      "Descending: {'c': 9, 'a': 5, 'b': 2, 'd': 1}\n"
     ]
    }
   ],
   "source": [
    "my_dict = {'a': 5, 'b': 2, 'c': 9, 'd': 1}\n",
    "\n",
    "asc = dict(sorted(my_dict.items(), key=lambda x: x[1]))\n",
    "print(\"Ascending:\", asc)\n",
    "\n",
    "desc = dict(sorted(my_dict.items(), key=lambda x: x[1], reverse=True))\n",
    "print(\"Descending:\", desc)\n"
   ]
  },
  {
   "cell_type": "markdown",
   "id": "4fcafc11",
   "metadata": {},
   "source": [
    "14.Write a Python program to find the highest 3 values in a dictionary."
   ]
  },
  {
   "cell_type": "code",
   "execution_count": 7,
   "id": "27dbb758",
   "metadata": {},
   "outputs": [
    {
     "name": "stdout",
     "output_type": "stream",
     "text": [
      "Highest 3 values: [9, 5, 2]\n"
     ]
    }
   ],
   "source": [
    "my_dict = {'a': 5, 'b': 2, 'c': 9, 'd': 1}\n",
    "\n",
    "sorted_values = sorted(my_dict.values(), reverse=True)\n",
    "\n",
    "highest3 = sorted_values[:3]\n",
    "\n",
    "print(\"Highest 3 values:\", highest3)\n",
    "\n"
   ]
  },
  {
   "cell_type": "markdown",
   "id": "0e05c97b",
   "metadata": {},
   "source": [
    "15.Given a number n, write a python program to make and print the list of Fibonacci\n",
    "series up to n. Input : n=7 Hint : first 7 numbers in the series Expected output :\n",
    "First few Fibonacci numbers are 0, 1, 1, 2, 3, 5, 8, 13"
   ]
  },
  {
   "cell_type": "code",
   "execution_count": 9,
   "id": "39badd32",
   "metadata": {},
   "outputs": [
    {
     "name": "stdout",
     "output_type": "stream",
     "text": [
      "First  10  Fibonacci numbers are: [0, 1, 1, 2, 3, 5, 8, 13, 21, 34]\n"
     ]
    }
   ],
   "source": [
    "n = int(input(\"Enter n: \"))\n",
    "\n",
    "fibo = [0, 1]   \n",
    "for i in range(2, n):\n",
    "    next_num = fibo[i-1] + fibo[i-2]\n",
    "    fibo.append(next_num)\n",
    "\n",
    "print(\"First \", n ,\" Fibonacci numbers are:\", fibo)\n"
   ]
  },
  {
   "cell_type": "markdown",
   "id": "fcf6a37b",
   "metadata": {},
   "source": [
    "16.Counting the frequencies in a list using a dictionary in Python. Input : [1, 1, 1, 5, 5, 3, 1, 3, 3, 1,4, 4, 4, 2, 2, 2, 2]\n",
    "Expected output : 1 : 5 , 2 : 4 , 3 : 3 , 4 : 3 , 5 : 2"
   ]
  },
  {
   "cell_type": "code",
   "execution_count": 10,
   "id": "3256b307",
   "metadata": {},
   "outputs": [
    {
     "name": "stdout",
     "output_type": "stream",
     "text": [
      "1 : 5 , 5 : 2 , 3 : 3 , 4 : 3 , 2 : 4 , "
     ]
    }
   ],
   "source": [
    "my_list = [1, 1, 1, 5, 5, 3, 1, 3, 3, 1, 4, 4, 4, 2, 2, 2, 2]\n",
    "\n",
    "freq = {}   \n",
    "\n",
    "for num in my_list:\n",
    "    if num in freq:          \n",
    "        freq[num] += 1       \n",
    "    else:\n",
    "        freq[num] = 1        \n",
    "\n",
    "for key, value in freq.items():\n",
    "    print(key, \":\", value, end=\" , \")\n"
   ]
  },
  {
   "cell_type": "markdown",
   "id": "73c6b076",
   "metadata": {},
   "source": [
    "17.Write a python program using function to find the sum of odd series and even series\n",
    "\n",
    "Odd series: 12/ 1! +32/ 3! + 52/ 5!+……n\n",
    "Even series: 22/ 2! + 42/ 4! + 62/ 6!+……n"
   ]
  },
  {
   "cell_type": "code",
   "execution_count": null,
   "id": "0b2dd25f",
   "metadata": {},
   "outputs": [
    {
     "name": "stdout",
     "output_type": "stream",
     "text": [
      "Sum of odd series = 2.7083333333333335\n",
      "Sum of even series = 2.7166666666666663\n"
     ]
    }
   ],
   "source": [
    "import math\n",
    "\n",
    "def facto(num):\n",
    "    num = int(input(\"Enter a number: \"))\n",
    "    fact = 1\n",
    "\n",
    "    for i in range(1, num + 1):\n",
    "        fact *= i\n",
    "\n",
    "    print(\"Factorial of\", num, \"is\", fact)\n",
    "\n",
    "def odd_series(n):\n",
    "    s = 0\n",
    "    for i in range(1, n+1, 2):      \n",
    "        s = s + (i**2) / facto(i)\n",
    "    return s\n",
    "\n",
    "def even_series(n):\n",
    "    s = 0\n",
    "    for i in range(2, n+1, 2):      \n",
    "        s = s + (i**2) / facto(i)\n",
    "    return s\n",
    "\n",
    "n = int(input(\"Enter n: \"))\n",
    "\n",
    "print(\"Sum of odd series =\", odd_series(n))\n",
    "print(\"Sum of even series =\", even_series(n))\n"
   ]
  },
  {
   "cell_type": "markdown",
   "id": "9db1558f",
   "metadata": {},
   "source": [
    "18. Python Program to Find Factorial of Number Using Recursion"
   ]
  },
  {
   "cell_type": "code",
   "execution_count": 21,
   "id": "217134c9",
   "metadata": {},
   "outputs": [
    {
     "name": "stdout",
     "output_type": "stream",
     "text": [
      "Factorial of 10 is 3628800\n"
     ]
    }
   ],
   "source": [
    "def fact(n):\n",
    "    if n == 0 or n == 1:    \n",
    "        return 1\n",
    "    else:\n",
    "        return n * fact(n-1)   \n",
    "\n",
    "num = int(input(\"Enter a number: \"))\n",
    "print(\"Factorial of\", num, \"is\", fact(num))\n"
   ]
  },
  {
   "cell_type": "markdown",
   "id": "9c969b9e",
   "metadata": {},
   "source": [
    "19.Write a Python function that takes a list and returns a new list with unique\n",
    "elements of the first list"
   ]
  },
  {
   "cell_type": "code",
   "execution_count": 22,
   "id": "aeec9dea",
   "metadata": {},
   "outputs": [
    {
     "name": "stdout",
     "output_type": "stream",
     "text": [
      "Original list: [1, 2, 2, 3, 4, 4, 5, 1, 6]\n",
      "Unique list: [1, 2, 3, 4, 5, 6]\n"
     ]
    }
   ],
   "source": [
    "def unique_list(lst):\n",
    "    unique = []\n",
    "    for i in lst:\n",
    "        if i not in unique:\n",
    "            unique.append(i)\n",
    "    return unique\n",
    "\n",
    "my_list = [1, 2, 2, 3, 4, 4, 5, 1, 6]\n",
    "print(\"Original list:\", my_list)\n",
    "print(\"Unique list:\", unique_list(my_list))\n"
   ]
  },
  {
   "cell_type": "markdown",
   "id": "53dd3015",
   "metadata": {},
   "source": [
    "20.Mini project :\n",
    "\n",
    "Problem Statement : Password Generator\n",
    "\n",
    "Make a program to generate a strong password using the input given by theuser. To generate a password, randomly take some words from the user input andtheninclude numbers, special characters and capital letters to generate the password. Also, keep a check that password length is more than 8 characters. \n",
    "\n",
    "Note: Include Exception handling wherever required. Also, make a ‘User’ classand store the details like user id, name and password of each user as a tuple"
   ]
  },
  {
   "cell_type": "code",
   "execution_count": 25,
   "id": "6692a6e8",
   "metadata": {},
   "outputs": [
    {
     "name": "stdout",
     "output_type": "stream",
     "text": [
      "User details stored: ('ADFas', 'sDV', 'zsdfv39*ZSDFV')\n",
      "Generated strong password: zsdfv39*ZSDFV\n"
     ]
    }
   ],
   "source": [
    "import random\n",
    "import string\n",
    "\n",
    "class User:\n",
    "    def __init__(self, user_id, name, password):\n",
    "        self.details = (user_id, name, password) \n",
    "\n",
    "def generate_password(words):\n",
    "    try:\n",
    "        chosen_words = random.sample(words, min(2, len(words)))  \n",
    "        base = \"\".join(chosen_words)\n",
    "\n",
    "        numbers = str(random.randint(10, 99))\n",
    "        specials = random.choice(\"!@#$%^&*\")\n",
    "        caps = base.upper()\n",
    "\n",
    "        password = base + numbers + specials + caps\n",
    "\n",
    "\n",
    "        if len(password) < 8:\n",
    "            password += random.choice(string.ascii_letters) + random.choice(string.digits)\n",
    "\n",
    "        return password\n",
    "    except Exception as e:\n",
    "        print(\"Error in generating password:\", e)\n",
    "        return None\n",
    "\n",
    "try:\n",
    "    user_id = input(\"Enter user id: \")\n",
    "    name = input(\"Enter name: \")\n",
    "    user_input = input(\"Enter some words separated by space: \").split()\n",
    "\n",
    "    password = generate_password(user_input)\n",
    "    if password:\n",
    "        user = User(user_id, name, password)\n",
    "        print(\"User details stored:\", user.details)\n",
    "        print(\"Generated strong password:\", password)\n",
    "except Exception as e:\n",
    "    print(\"Something went wrong:\", e)\n"
   ]
  }
 ],
 "metadata": {
  "kernelspec": {
   "display_name": "Python 3",
   "language": "python",
   "name": "python3"
  },
  "language_info": {
   "codemirror_mode": {
    "name": "ipython",
    "version": 3
   },
   "file_extension": ".py",
   "mimetype": "text/x-python",
   "name": "python",
   "nbconvert_exporter": "python",
   "pygments_lexer": "ipython3",
   "version": "3.13.5"
  }
 },
 "nbformat": 4,
 "nbformat_minor": 5
}
